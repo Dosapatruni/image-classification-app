{
 "cells": [
  {
   "cell_type": "code",
   "execution_count": 1,
   "id": "6c4a2999",
   "metadata": {},
   "outputs": [],
   "source": [
    "import tkinter as tk\n",
    "from tkinter import filedialog, Label, Button\n",
    "import tensorflow as tf\n",
    "import numpy as np\n",
    "from PIL import Image, ImageTk"
   ]
  },
  {
   "cell_type": "code",
   "execution_count": 6,
   "id": "8c12ead8",
   "metadata": {},
   "outputs": [],
   "source": [
    "# Load the trained model\n",
    "model = tf.keras.models.load_model(\"D:/image classification/Image_classify (1).keras\")"
   ]
  },
  {
   "cell_type": "code",
   "execution_count": 8,
   "id": "ac27449b",
   "metadata": {},
   "outputs": [],
   "source": [
    "# Categories for classification\n",
    "data_cat = [\n",
    "    'apple', 'banana', 'beetroot', 'bell pepper', 'cabbage', 'capsicum', 'carrot',\n",
    "    'cauliflower', 'chilli pepper', 'corn', 'cucumber', 'eggplant', 'garlic',\n",
    "    'ginger', 'grapes', 'jalepeno', 'kiwi', 'lemon', 'lettuce', 'mango', 'onion',\n",
    "    'orange', 'paprika', 'pear', 'peas', 'pineapple', 'pomegranate', 'potato',\n",
    "    'raddish', 'soy beans', 'spinach', 'sweetcorn', 'sweetpotato', 'tomato',\n",
    "    'turnip', 'watermelon'\n",
    "]"
   ]
  },
  {
   "cell_type": "code",
   "execution_count": 10,
   "id": "1f1cb310",
   "metadata": {},
   "outputs": [],
   "source": [
    "# Image size expected by the model\n",
    "img_height, img_width = 180, 180\n",
    "\n",
    "# Function to open file dialog and select an image\n",
    "def upload_image():\n",
    "    file_path = filedialog.askopenfilename(filetypes=[(\"Image Files\", \"*.jpg;*.png;*.jpeg\")])\n",
    "    \n",
    "    if file_path:\n",
    "        image = Image.open(file_path)\n",
    "        image = image.resize((img_width, img_height))  # Resize for model\n",
    "        \n",
    "        # Convert image for TensorFlow\n",
    "        img_arr = tf.keras.preprocessing.image.img_to_array(image)\n",
    "        img_bat = tf.expand_dims(img_arr, 0)  # Expand dimensions for batch\n",
    "        \n",
    "        # Display image in GUI\n",
    "        tk_image = ImageTk.PhotoImage(image)\n",
    "        img_label.config(image=tk_image)\n",
    "        img_label.image = tk_image\n",
    "\n",
    "        # Make prediction\n",
    "        prediction = model.predict(img_bat)\n",
    "        score = tf.nn.softmax(prediction[0])\n",
    "\n",
    "        # Display result\n",
    "        result_label.config(text=f\"Predicted: {data_cat[np.argmax(score)]}\\nConfidence: {np.max(score) * 100:.2f}%\")"
   ]
  },
  {
   "cell_type": "code",
   "execution_count": 12,
   "id": "d955bbae",
   "metadata": {},
   "outputs": [
    {
     "data": {
      "text/plain": [
       "''"
      ]
     },
     "execution_count": 12,
     "metadata": {},
     "output_type": "execute_result"
    }
   ],
   "source": [
    "# Initialize Tkinter Window\n",
    "root = tk.Tk()\n",
    "root.title(\"Image Classification with Tkinter\")\n",
    "root.geometry(\"500x500\")"
   ]
  },
  {
   "cell_type": "code",
   "execution_count": 14,
   "id": "38e3357d",
   "metadata": {},
   "outputs": [],
   "source": [
    "# UI Elements\n",
    "Label(root, text=\"Upload an Image for Classification\", font=(\"Arial\", 14)).pack(pady=10)\n",
    "\n",
    "btn_upload = Button(root, text=\"Upload Image\", command=upload_image, font=(\"Arial\", 12))\n",
    "btn_upload.pack(pady=10)\n",
    "\n",
    "img_label = Label(root)\n",
    "img_label.pack(pady=10)\n",
    "\n",
    "result_label = Label(root, text=\"\", font=(\"Arial\", 14), fg=\"blue\")\n",
    "result_label.pack(pady=20)"
   ]
  },
  {
   "cell_type": "code",
   "execution_count": null,
   "id": "aff940a1",
   "metadata": {},
   "outputs": [
    {
     "name": "stdout",
     "output_type": "stream",
     "text": [
      "\u001b[1m1/1\u001b[0m \u001b[32m━━━━━━━━━━━━━━━━━━━━\u001b[0m\u001b[37m\u001b[0m \u001b[1m0s\u001b[0m 243ms/step\n",
      "\u001b[1m1/1\u001b[0m \u001b[32m━━━━━━━━━━━━━━━━━━━━\u001b[0m\u001b[37m\u001b[0m \u001b[1m0s\u001b[0m 59ms/step\n",
      "\u001b[1m1/1\u001b[0m \u001b[32m━━━━━━━━━━━━━━━━━━━━\u001b[0m\u001b[37m\u001b[0m \u001b[1m0s\u001b[0m 49ms/step\n",
      "\u001b[1m1/1\u001b[0m \u001b[32m━━━━━━━━━━━━━━━━━━━━\u001b[0m\u001b[37m\u001b[0m \u001b[1m0s\u001b[0m 36ms/step\n"
     ]
    }
   ],
   "source": [
    "# Run Tkinter event loop\n",
    "root.mainloop()"
   ]
  },
  {
   "cell_type": "code",
   "execution_count": null,
   "id": "0781292d-96f0-40fb-8246-146eac24ba97",
   "metadata": {},
   "outputs": [],
   "source": []
  }
 ],
 "metadata": {
  "kernelspec": {
   "display_name": "Python [conda env:base] *",
   "language": "python",
   "name": "conda-base-py"
  },
  "language_info": {
   "codemirror_mode": {
    "name": "ipython",
    "version": 3
   },
   "file_extension": ".py",
   "mimetype": "text/x-python",
   "name": "python",
   "nbconvert_exporter": "python",
   "pygments_lexer": "ipython3",
   "version": "3.12.7"
  }
 },
 "nbformat": 4,
 "nbformat_minor": 5
}
